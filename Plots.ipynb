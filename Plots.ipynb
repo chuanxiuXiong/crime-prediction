{
 "cells": [
  {
   "cell_type": "code",
   "execution_count": null,
   "metadata": {},
   "outputs": [],
   "source": [
    "import pickle\n",
    "import numpy as np\n",
    "import pysal as ps\n",
    "from scipy import sparse\n",
    "from datetime import date\n",
    "from datetime import timedelta\n",
    "import pandas as pd\n",
    "from pandas import TimeGrouper\n",
    "import matplotlib.pyplot as plt\n",
    "import config\n",
    "import os"
   ]
  },
  {
   "cell_type": "code",
   "execution_count": null,
   "metadata": {},
   "outputs": [],
   "source": [
    "def printGrids(periodsAhead, results_grid, results_cluster):\n",
    "    %matplotlib inline\n",
    "    plt.close('all')\n",
    "    fig, ax = plt.subplots(1, 4, figsize=(18,5), sharey=True)\n",
    "    if config.grid_prediction == 1:\n",
    "        for j in range(len(results_grid)):\n",
    "            results = results_grid[j]\n",
    "            for result in results:\n",
    "                ax[j].set_ylabel('fractions of crimes avoided')\n",
    "                ax[j].plot(result, alpha = 0.85)\n",
    "                ax[j].legend()\n",
    "    \n",
    "    if config.cluster_prediction == 1:\n",
    "        for j in range(len(results_cluster)):\n",
    "            results = results_cluster[j]\n",
    "            for result in results:\n",
    "                if j == 0:\n",
    "                    ax[j].set_ylabel('fractions of crimes avoided')\n",
    "                elif j == 1:\n",
    "                    ax[j].set_xlabel('Available resources')\n",
    "                    ax[j].set_title('{} week(s) ahead grid results'.format(periodsAhead))\n",
    "                ax[j].plot(result, alpha = 0.85, marker='.')\n",
    "                ax[j].legend()\n",
    "    os.makedirs(os.path.abspath(\"results/\"), exist_ok=True)\n",
    "    os.makedirs(os.path.abspath(\"results/plots\"), exist_ok=True)\n",
    "    plt.savefig('results/plots/{}-week-ahead.png'.format(periodsAhead), dpi=300)"
   ]
  },
  {
   "cell_type": "code",
   "execution_count": null,
   "metadata": {},
   "outputs": [],
   "source": [
    "def plot(periodsAhead):\n",
    "    pkl_file_grid = open('results/grid/grid_{}ahead.pkl'.format(periodsAhead), 'rb')\n",
    "    results_grid = pickle.load(pkl_file_grid)\n",
    "    \n",
    "    pkl_file_cluster = open('results/cluster/cluster_{}ahead.pkl'.format(periodsAhead), 'rb')\n",
    "    results_cluster = pickle.load(pkl_file_cluster)\n",
    "\n",
    "    printGrids(periodsAhead, results_grid, results_cluster)"
   ]
  },
  {
   "cell_type": "code",
   "execution_count": null,
   "metadata": {},
   "outputs": [],
   "source": [
    "for periodsAhead in config.periodsAhead_list:\n",
    "    plot(periodsAhead)"
   ]
  }
 ],
 "metadata": {
  "kernelspec": {
   "display_name": "Python 3",
   "language": "python",
   "name": "python3"
  },
  "language_info": {
   "codemirror_mode": {
    "name": "ipython",
    "version": 3
   },
   "file_extension": ".py",
   "mimetype": "text/x-python",
   "name": "python",
   "nbconvert_exporter": "python",
   "pygments_lexer": "ipython3",
   "version": "3.5.4"
  }
 },
 "nbformat": 4,
 "nbformat_minor": 2
}
